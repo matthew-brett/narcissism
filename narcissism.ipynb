{
 "cells": [
  {
   "cell_type": "markdown",
   "id": "762ae66a",
   "metadata": {},
   "source": [
    "# Narcissism survey analysis"
   ]
  },
  {
   "cell_type": "markdown",
   "id": "098db488",
   "metadata": {},
   "source": [
    "**MB**: The data are from <https://openpsychometrics.org/_rawdata/>, specifically, the data for the Narcissistic Personality Inventory <http://openpsychometrics.org/_rawdata/NPI.zip>."
   ]
  },
  {
   "cell_type": "code",
   "execution_count": 1,
   "id": "3e50bab9",
   "metadata": {},
   "outputs": [],
   "source": [
    "import numpy as np\n",
    "import pandas as pd\n",
    "pd.set_option('mode.copy_on_write', True)\n",
    "import matplotlib.pyplot as plt"
   ]
  },
  {
   "cell_type": "code",
   "execution_count": 2,
   "id": "5169815b",
   "metadata": {},
   "outputs": [
    {
     "data": {
      "text/html": [
       "<div>\n",
       "<style scoped>\n",
       "    .dataframe tbody tr th:only-of-type {\n",
       "        vertical-align: middle;\n",
       "    }\n",
       "\n",
       "    .dataframe tbody tr th {\n",
       "        vertical-align: top;\n",
       "    }\n",
       "\n",
       "    .dataframe thead th {\n",
       "        text-align: right;\n",
       "    }\n",
       "</style>\n",
       "<table border=\"1\" class=\"dataframe\">\n",
       "  <thead>\n",
       "    <tr style=\"text-align: right;\">\n",
       "      <th></th>\n",
       "      <th>score</th>\n",
       "      <th>Q1</th>\n",
       "      <th>Q2</th>\n",
       "      <th>Q3</th>\n",
       "      <th>Q4</th>\n",
       "      <th>Q5</th>\n",
       "      <th>Q6</th>\n",
       "      <th>Q7</th>\n",
       "      <th>Q8</th>\n",
       "      <th>Q9</th>\n",
       "      <th>...</th>\n",
       "      <th>Q34</th>\n",
       "      <th>Q35</th>\n",
       "      <th>Q36</th>\n",
       "      <th>Q37</th>\n",
       "      <th>Q38</th>\n",
       "      <th>Q39</th>\n",
       "      <th>Q40</th>\n",
       "      <th>elapse</th>\n",
       "      <th>gender</th>\n",
       "      <th>age</th>\n",
       "    </tr>\n",
       "  </thead>\n",
       "  <tbody>\n",
       "    <tr>\n",
       "      <th>0</th>\n",
       "      <td>18</td>\n",
       "      <td>2</td>\n",
       "      <td>2</td>\n",
       "      <td>2</td>\n",
       "      <td>2</td>\n",
       "      <td>1</td>\n",
       "      <td>2</td>\n",
       "      <td>1</td>\n",
       "      <td>2</td>\n",
       "      <td>2</td>\n",
       "      <td>...</td>\n",
       "      <td>1</td>\n",
       "      <td>1</td>\n",
       "      <td>2</td>\n",
       "      <td>2</td>\n",
       "      <td>2</td>\n",
       "      <td>1</td>\n",
       "      <td>2</td>\n",
       "      <td>211</td>\n",
       "      <td>1</td>\n",
       "      <td>50</td>\n",
       "    </tr>\n",
       "    <tr>\n",
       "      <th>1</th>\n",
       "      <td>6</td>\n",
       "      <td>2</td>\n",
       "      <td>2</td>\n",
       "      <td>2</td>\n",
       "      <td>1</td>\n",
       "      <td>2</td>\n",
       "      <td>2</td>\n",
       "      <td>1</td>\n",
       "      <td>2</td>\n",
       "      <td>1</td>\n",
       "      <td>...</td>\n",
       "      <td>2</td>\n",
       "      <td>1</td>\n",
       "      <td>2</td>\n",
       "      <td>2</td>\n",
       "      <td>2</td>\n",
       "      <td>2</td>\n",
       "      <td>1</td>\n",
       "      <td>149</td>\n",
       "      <td>1</td>\n",
       "      <td>40</td>\n",
       "    </tr>\n",
       "    <tr>\n",
       "      <th>2</th>\n",
       "      <td>27</td>\n",
       "      <td>1</td>\n",
       "      <td>2</td>\n",
       "      <td>2</td>\n",
       "      <td>1</td>\n",
       "      <td>2</td>\n",
       "      <td>1</td>\n",
       "      <td>2</td>\n",
       "      <td>1</td>\n",
       "      <td>2</td>\n",
       "      <td>...</td>\n",
       "      <td>1</td>\n",
       "      <td>2</td>\n",
       "      <td>1</td>\n",
       "      <td>1</td>\n",
       "      <td>2</td>\n",
       "      <td>1</td>\n",
       "      <td>2</td>\n",
       "      <td>168</td>\n",
       "      <td>1</td>\n",
       "      <td>28</td>\n",
       "    </tr>\n",
       "    <tr>\n",
       "      <th>3</th>\n",
       "      <td>29</td>\n",
       "      <td>1</td>\n",
       "      <td>1</td>\n",
       "      <td>2</td>\n",
       "      <td>2</td>\n",
       "      <td>2</td>\n",
       "      <td>1</td>\n",
       "      <td>2</td>\n",
       "      <td>1</td>\n",
       "      <td>1</td>\n",
       "      <td>...</td>\n",
       "      <td>1</td>\n",
       "      <td>2</td>\n",
       "      <td>1</td>\n",
       "      <td>2</td>\n",
       "      <td>2</td>\n",
       "      <td>1</td>\n",
       "      <td>1</td>\n",
       "      <td>230</td>\n",
       "      <td>1</td>\n",
       "      <td>37</td>\n",
       "    </tr>\n",
       "    <tr>\n",
       "      <th>4</th>\n",
       "      <td>6</td>\n",
       "      <td>1</td>\n",
       "      <td>2</td>\n",
       "      <td>1</td>\n",
       "      <td>1</td>\n",
       "      <td>1</td>\n",
       "      <td>2</td>\n",
       "      <td>1</td>\n",
       "      <td>2</td>\n",
       "      <td>1</td>\n",
       "      <td>...</td>\n",
       "      <td>2</td>\n",
       "      <td>1</td>\n",
       "      <td>2</td>\n",
       "      <td>2</td>\n",
       "      <td>2</td>\n",
       "      <td>0</td>\n",
       "      <td>1</td>\n",
       "      <td>389</td>\n",
       "      <td>1</td>\n",
       "      <td>50</td>\n",
       "    </tr>\n",
       "  </tbody>\n",
       "</table>\n",
       "<p>5 rows × 44 columns</p>\n",
       "</div>"
      ],
      "text/plain": [
       "   score  Q1  Q2  Q3  Q4  Q5  Q6  Q7  Q8  Q9  ...  Q34  Q35  Q36  Q37  Q38  \\\n",
       "0     18   2   2   2   2   1   2   1   2   2  ...    1    1    2    2    2   \n",
       "1      6   2   2   2   1   2   2   1   2   1  ...    2    1    2    2    2   \n",
       "2     27   1   2   2   1   2   1   2   1   2  ...    1    2    1    1    2   \n",
       "3     29   1   1   2   2   2   1   2   1   1  ...    1    2    1    2    2   \n",
       "4      6   1   2   1   1   1   2   1   2   1  ...    2    1    2    2    2   \n",
       "\n",
       "   Q39  Q40  elapse  gender  age  \n",
       "0    1    2     211       1   50  \n",
       "1    2    1     149       1   40  \n",
       "2    1    2     168       1   28  \n",
       "3    1    1     230       1   37  \n",
       "4    0    1     389       1   50  \n",
       "\n",
       "[5 rows x 44 columns]"
      ]
     },
     "execution_count": 2,
     "metadata": {},
     "output_type": "execute_result"
    }
   ],
   "source": [
    "df = pd.read_csv('NPI/data.csv')\n",
    "df.head()"
   ]
  },
  {
   "cell_type": "markdown",
   "id": "552e6c54-6405-4a19-8758-7c725c99fed3",
   "metadata": {},
   "source": [
    "## A partial correlation"
   ]
  },
  {
   "cell_type": "markdown",
   "id": "9c87a022-0332-4bb4-895a-e02f82eeebb7",
   "metadata": {},
   "source": [
    "Let's say we are interested in the scores from Q10.\n",
    "\n",
    "We know and are not interested by the fact that the results from Q1 can partially predict the results of Q10.\n",
    "\n",
    "What we want to know is, is whether Q2 predicts Q10, *after removing any effect that can be explained by Q1*.\n",
    "\n",
    "We first use the code from the textbook to calculate correlations - see <https://lisds.github.io/textbook/mean-slopes/Correlation.html>."
   ]
  },
  {
   "cell_type": "code",
   "execution_count": 3,
   "id": "b2f04217-02de-4667-8490-aa30518729bf",
   "metadata": {},
   "outputs": [],
   "source": [
    "def standard_units(x):\n",
    "    \"Convert any array of numbers to standard units.\"\n",
    "    return (x - np.mean(x))/np.std(x)"
   ]
  },
  {
   "cell_type": "code",
   "execution_count": 4,
   "id": "34e57886-0760-4f43-ae52-813f40b23c55",
   "metadata": {},
   "outputs": [],
   "source": [
    "# A version of the function from the textbook.\n",
    "\n",
    "def correlation(x_vals, y_vals):\n",
    "    \"\"\" Correlation by calculation\n",
    "    \"\"\"\n",
    "    return np.mean(standard_units(x_vals) * standard_units(y_vals))"
   ]
  },
  {
   "cell_type": "markdown",
   "id": "b5e2f2b8-84de-4f1d-95ba-348a1e764296",
   "metadata": {},
   "source": [
    "As expected, there is a negative correlation between question 1 and question 10."
   ]
  },
  {
   "cell_type": "code",
   "execution_count": 5,
   "id": "ba7f60d9-71f8-44dc-9b97-8edda170b5d8",
   "metadata": {},
   "outputs": [
    {
     "data": {
      "text/plain": [
       "-0.33155950650078453"
      ]
     },
     "execution_count": 5,
     "metadata": {},
     "output_type": "execute_result"
    }
   ],
   "source": [
    "r_q1_q10 = correlation(df['Q1'], df['Q10'])\n",
    "r_q1_q10"
   ]
  },
  {
   "cell_type": "markdown",
   "id": "8ab0f513-5656-4599-b261-0467c9929a93",
   "metadata": {},
   "source": [
    "Our question is - what if we *removed* this effect (of Q1) from the values of Q10?   Would Q2 be able to predict the remaining (residual) values of Q10.  You can see this approach in <https://lisds.github.io/textbook/classification/single_multiple.html#multiple-regression-in-steps>.\n",
    "\n",
    "We first do a regression, predicting Q10 from Q1, using Statsmodels, following the recipe in the page above.  We'll use the least-squares shortcut to minimize, for simplicity (see the page above for details)."
   ]
  },
  {
   "cell_type": "code",
   "execution_count": 6,
   "id": "e980191e-ef3a-4875-87af-b16c4f592352",
   "metadata": {},
   "outputs": [],
   "source": [
    "from scipy.stats import linregress"
   ]
  },
  {
   "cell_type": "code",
   "execution_count": 7,
   "id": "d0b68751-ae20-406d-a97a-966d0cb64c2b",
   "metadata": {},
   "outputs": [
    {
     "data": {
      "text/plain": [
       "LinregressResult(slope=-0.3434917219145632, intercept=1.9857334365764383, rvalue=-0.33155950650078664, pvalue=1.2288093329619586e-286, stderr=0.009218579004519889, intercept_stderr=0.013549359121875722)"
      ]
     },
     "execution_count": 7,
     "metadata": {},
     "output_type": "execute_result"
    }
   ],
   "source": [
    "res = linregress(df['Q1'], df['Q10'])\n",
    "res"
   ]
  },
  {
   "cell_type": "markdown",
   "id": "b96280c7-e5b9-4180-8b51-ce201c0fa23d",
   "metadata": {},
   "source": [
    "Notice this is the regression corresponding to the correlation above - you can see the previous r value in the output above.   With this regression, we have the slope and intercept to get the *predicted* values for Q10 from the values of Q1."
   ]
  },
  {
   "cell_type": "code",
   "execution_count": 8,
   "id": "57123fbf-1655-4d59-a45f-be95dff3febd",
   "metadata": {},
   "outputs": [],
   "source": [
    "q10_predicted = res.intercept + res.slope * df['Q1']"
   ]
  },
  {
   "cell_type": "markdown",
   "id": "2b20a732-a44f-4da0-b74d-f6e20e563238",
   "metadata": {},
   "source": [
    "Now we can calculate the *residuals* for Q10.  The residuals are the values left over (residual) after subtracting the predictions we got from Q1."
   ]
  },
  {
   "cell_type": "code",
   "execution_count": 9,
   "id": "545690fb-2e36-4e7f-badd-b3bd832cf07c",
   "metadata": {},
   "outputs": [
    {
     "data": {
      "text/plain": [
       "0        0.701250\n",
       "1       -0.298750\n",
       "2        0.357758\n",
       "3        0.357758\n",
       "4        0.357758\n",
       "           ...   \n",
       "11238   -0.298750\n",
       "11239    0.701250\n",
       "11240   -0.642242\n",
       "11241    0.701250\n",
       "11242    0.357758\n",
       "Length: 11243, dtype: float64"
      ]
     },
     "execution_count": 9,
     "metadata": {},
     "output_type": "execute_result"
    }
   ],
   "source": [
    "q10_residuals = df['Q10'] - q10_predicted\n",
    "q10_residuals"
   ]
  },
  {
   "cell_type": "markdown",
   "id": "57d46fef-7716-447e-998b-d814b32c70e0",
   "metadata": {},
   "source": [
    "The residuals are the values of Q10 *after removing our estimate of the effect of Q1*.   So now we can ask our question of interest - how well does Q2 predict Q10, *after removing the effect of Q1*:"
   ]
  },
  {
   "cell_type": "code",
   "execution_count": 10,
   "id": "8813e2a2-5c89-4408-a018-92b90f6c8f19",
   "metadata": {},
   "outputs": [
    {
     "data": {
      "text/plain": [
       "-0.07416384855394617"
      ]
     },
     "execution_count": 10,
     "metadata": {},
     "output_type": "execute_result"
    }
   ],
   "source": [
    "correlation(df['Q2'], q10_residuals)"
   ]
  },
  {
   "cell_type": "markdown",
   "id": "3cf90b9c-1b0d-4a57-9afa-a57e19c15cb0",
   "metadata": {},
   "source": [
    "This is known as the *partial* correlation of Q2 with Q10, adjusting for Q1."
   ]
  },
  {
   "cell_type": "markdown",
   "id": "3d9f2577-aec4-42b2-be11-90bb33beba0e",
   "metadata": {},
   "source": [
    "Of course, we could also get the correlation with `linregress`, as we did above.  In that way, we also get the slope and intercept."
   ]
  },
  {
   "cell_type": "code",
   "execution_count": 11,
   "id": "66749a46-0db6-4330-ac07-885b8911054f",
   "metadata": {},
   "outputs": [
    {
     "data": {
      "text/plain": [
       "LinregressResult(slope=-0.08538298266193917, intercept=0.1523952960132645, rvalue=-0.07416384855394625, pvalue=3.4406581645118786e-15, stderr=0.010828764848373577, intercept_stderr=0.019845386480978673)"
      ]
     },
     "execution_count": 11,
     "metadata": {},
     "output_type": "execute_result"
    }
   ],
   "source": [
    "linregress(df['Q2'], q10_residuals)"
   ]
  }
 ],
 "metadata": {
  "jupytext": {
   "notebook_metadata_filter": "all,-language_info",
   "split_at_heading": true
  },
  "kernelspec": {
   "display_name": "Python 3 (ipykernel)",
   "language": "python",
   "name": "python3"
  },
  "language_info": {
   "codemirror_mode": {
    "name": "ipython",
    "version": 3
   },
   "file_extension": ".py",
   "mimetype": "text/x-python",
   "name": "python",
   "nbconvert_exporter": "python",
   "pygments_lexer": "ipython3",
   "version": "3.11.6"
  }
 },
 "nbformat": 4,
 "nbformat_minor": 5
}
